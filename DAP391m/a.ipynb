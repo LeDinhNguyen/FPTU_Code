{
 "cells": [
  {
   "cell_type": "code",
   "execution_count": 2,
   "metadata": {},
   "outputs": [
    {
     "data": {
      "text/plain": [
       "(26024289, 3)"
      ]
     },
     "execution_count": 2,
     "metadata": {},
     "output_type": "execute_result"
    }
   ],
   "source": [
    "import pandas as pd\n",
    "\n",
    "genre = pd.read_csv(\"./data/ratings.csv\", index_col=0)\n",
    "genre.shape"
   ]
  },
  {
   "cell_type": "code",
   "execution_count": 5,
   "metadata": {},
   "outputs": [
    {
     "data": {
      "text/html": [
       "<div>\n",
       "<style scoped>\n",
       "    .dataframe tbody tr th:only-of-type {\n",
       "        vertical-align: middle;\n",
       "    }\n",
       "\n",
       "    .dataframe tbody tr th {\n",
       "        vertical-align: top;\n",
       "    }\n",
       "\n",
       "    .dataframe thead th {\n",
       "        text-align: right;\n",
       "    }\n",
       "</style>\n",
       "<table border=\"1\" class=\"dataframe\">\n",
       "  <thead>\n",
       "    <tr style=\"text-align: right;\">\n",
       "      <th></th>\n",
       "      <th>movieId</th>\n",
       "      <th>rating</th>\n",
       "      <th>timestamp</th>\n",
       "    </tr>\n",
       "    <tr>\n",
       "      <th>userId</th>\n",
       "      <th></th>\n",
       "      <th></th>\n",
       "      <th></th>\n",
       "    </tr>\n",
       "  </thead>\n",
       "  <tbody>\n",
       "    <tr>\n",
       "      <th>1</th>\n",
       "      <td>110</td>\n",
       "      <td>1.0</td>\n",
       "      <td>1425941529</td>\n",
       "    </tr>\n",
       "    <tr>\n",
       "      <th>1</th>\n",
       "      <td>147</td>\n",
       "      <td>4.5</td>\n",
       "      <td>1425942435</td>\n",
       "    </tr>\n",
       "    <tr>\n",
       "      <th>1</th>\n",
       "      <td>858</td>\n",
       "      <td>5.0</td>\n",
       "      <td>1425941523</td>\n",
       "    </tr>\n",
       "    <tr>\n",
       "      <th>1</th>\n",
       "      <td>1221</td>\n",
       "      <td>5.0</td>\n",
       "      <td>1425941546</td>\n",
       "    </tr>\n",
       "    <tr>\n",
       "      <th>1</th>\n",
       "      <td>1246</td>\n",
       "      <td>5.0</td>\n",
       "      <td>1425941556</td>\n",
       "    </tr>\n",
       "    <tr>\n",
       "      <th>...</th>\n",
       "      <td>...</td>\n",
       "      <td>...</td>\n",
       "      <td>...</td>\n",
       "    </tr>\n",
       "    <tr>\n",
       "      <th>103170</th>\n",
       "      <td>784</td>\n",
       "      <td>2.0</td>\n",
       "      <td>1253550718</td>\n",
       "    </tr>\n",
       "    <tr>\n",
       "      <th>103170</th>\n",
       "      <td>786</td>\n",
       "      <td>2.5</td>\n",
       "      <td>1253457101</td>\n",
       "    </tr>\n",
       "    <tr>\n",
       "      <th>103170</th>\n",
       "      <td>788</td>\n",
       "      <td>2.0</td>\n",
       "      <td>1253550486</td>\n",
       "    </tr>\n",
       "    <tr>\n",
       "      <th>103170</th>\n",
       "      <td>858</td>\n",
       "      <td>4.0</td>\n",
       "      <td>1253456383</td>\n",
       "    </tr>\n",
       "    <tr>\n",
       "      <th>103170</th>\n",
       "      <td>912</td>\n",
       "      <td>3.0</td>\n",
       "      <td>1253456512</td>\n",
       "    </tr>\n",
       "  </tbody>\n",
       "</table>\n",
       "<p>10000000 rows × 3 columns</p>\n",
       "</div>"
      ],
      "text/plain": [
       "        movieId  rating   timestamp\n",
       "userId                             \n",
       "1           110     1.0  1425941529\n",
       "1           147     4.5  1425942435\n",
       "1           858     5.0  1425941523\n",
       "1          1221     5.0  1425941546\n",
       "1          1246     5.0  1425941556\n",
       "...         ...     ...         ...\n",
       "103170      784     2.0  1253550718\n",
       "103170      786     2.5  1253457101\n",
       "103170      788     2.0  1253550486\n",
       "103170      858     4.0  1253456383\n",
       "103170      912     3.0  1253456512\n",
       "\n",
       "[10000000 rows x 3 columns]"
      ]
     },
     "execution_count": 5,
     "metadata": {},
     "output_type": "execute_result"
    }
   ],
   "source": [
    "genre[0:10000000]"
   ]
  },
  {
   "cell_type": "code",
   "execution_count": 6,
   "metadata": {},
   "outputs": [
    {
     "name": "stdout",
     "output_type": "stream",
     "text": [
      "Total running time: 727.3049163818359 seconds\n"
     ]
    }
   ],
   "source": [
    "import pandas as pd\n",
    "from pymongo import MongoClient\n",
    "from concurrent.futures import ThreadPoolExecutor\n",
    "import time\n",
    "\n",
    "# Function to insert data into MongoDB\n",
    "def insert_data(chunk):\n",
    "    client = MongoClient('localhost', 27017)\n",
    "    db = client['DAP301m_movies']\n",
    "    collection = db['ratings']\n",
    "    collection.insert_many(chunk)\n",
    "    client.close()\n",
    "\n",
    "# Read CSV file into pandas DataFrame\n",
    "df = pd.read_csv(\"./data/ratings.csv\")\n",
    "\n",
    "# Convert DataFrame to a list of dictionaries\n",
    "data = df.to_dict(orient='records')\n",
    "\n",
    "# Split data into chunks\n",
    "chunk_size = 1000\n",
    "data_chunks = [data[i:i + chunk_size] for i in range(0, len(data), chunk_size)]\n",
    "\n",
    "# Number of threads (adjust as needed)\n",
    "num_threads = 4\n",
    "\n",
    "start_time = time.time()\n",
    "\n",
    "# Use ThreadPoolExecutor for multithreading\n",
    "with ThreadPoolExecutor(max_workers=num_threads) as executor:\n",
    "    executor.map(insert_data, data_chunks)\n",
    "\n",
    "end_time = time.time()\n",
    "\n",
    "# Calculate and print the total running time\n",
    "total_time = end_time - start_time\n",
    "print(f\"Total running time: {total_time} seconds\")\n"
   ]
  }
 ],
 "metadata": {
  "kernelspec": {
   "display_name": "Python 3",
   "language": "python",
   "name": "python3"
  },
  "language_info": {
   "codemirror_mode": {
    "name": "ipython",
    "version": 3
   },
   "file_extension": ".py",
   "mimetype": "text/x-python",
   "name": "python",
   "nbconvert_exporter": "python",
   "pygments_lexer": "ipython3",
   "version": "3.11.3"
  }
 },
 "nbformat": 4,
 "nbformat_minor": 2
}
