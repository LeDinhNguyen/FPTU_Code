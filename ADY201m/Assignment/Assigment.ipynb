{
 "cells": [
  {
   "cell_type": "code",
   "execution_count": 1,
   "metadata": {},
   "outputs": [],
   "source": [
    "import numpy as np\n",
    "import pandas as pd\n",
    "import matplotlib.pyplot as plt\n",
    "%matplotlib inline\n",
    "import seaborn as sns"
   ]
  },
  {
   "cell_type": "code",
   "execution_count": 8,
   "metadata": {},
   "outputs": [],
   "source": [
    "train = pd.read_csv(\"./data/CARDIO_TRAIN.csv\", index_col=0)\n",
    "train_raw = pd.read_csv(\"./data/cardio_train_raw.csv\", index_col=0)"
   ]
  },
  {
   "cell_type": "code",
   "execution_count": 12,
   "metadata": {},
   "outputs": [
    {
     "name": "stdout",
     "output_type": "stream",
     "text": [
      "<class 'pandas.core.frame.DataFrame'>\n",
      "Int64Index: 70000 entries, 0 to 69999\n",
      "Data columns (total 13 columns):\n",
      " #   Column       Non-Null Count  Dtype  \n",
      "---  ------       --------------  -----  \n",
      " 0   ID           70000 non-null  int64  \n",
      " 1   AGE          70000 non-null  int64  \n",
      " 2   GENDER       70000 non-null  int64  \n",
      " 3   HEIGHT       70000 non-null  int64  \n",
      " 4   WEIGHT       70000 non-null  float64\n",
      " 5   AP_HI        70000 non-null  int64  \n",
      " 6   AP_LO        70000 non-null  int64  \n",
      " 7   CHOLESTEROL  70000 non-null  int64  \n",
      " 8   GLUC         70000 non-null  int64  \n",
      " 9   SMOKE        70000 non-null  int64  \n",
      " 10  ALCO         70000 non-null  int64  \n",
      " 11  ACTIVE       70000 non-null  int64  \n",
      " 12  CARDIO       70000 non-null  int64  \n",
      "dtypes: float64(1), int64(12)\n",
      "memory usage: 7.5 MB\n"
     ]
    }
   ],
   "source": [
    "train.info()"
   ]
  }
 ],
 "metadata": {
  "kernelspec": {
   "display_name": "Python 3",
   "language": "python",
   "name": "python3"
  },
  "language_info": {
   "codemirror_mode": {
    "name": "ipython",
    "version": 3
   },
   "file_extension": ".py",
   "mimetype": "text/x-python",
   "name": "python",
   "nbconvert_exporter": "python",
   "pygments_lexer": "ipython3",
   "version": "3.10.12"
  },
  "orig_nbformat": 4
 },
 "nbformat": 4,
 "nbformat_minor": 2
}
