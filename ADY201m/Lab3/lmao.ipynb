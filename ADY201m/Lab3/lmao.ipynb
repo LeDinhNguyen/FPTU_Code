{
 "cells": [
  {
   "cell_type": "code",
   "execution_count": 1,
   "id": "b56eab017924b2e8",
   "metadata": {
    "collapsed": false,
    "ExecuteTime": {
     "end_time": "2023-09-25T13:58:02.549339600Z",
     "start_time": "2023-09-25T13:58:02.039845800Z"
    }
   },
   "outputs": [
    {
     "name": "stdout",
     "output_type": "stream",
     "text": [
      "imported successfully\n"
     ]
    }
   ],
   "source": [
    "import pyodbc\n",
    "import numpy as np\n",
    "import pandas as pd\n",
    "print(\"imported successfully\")"
   ]
  },
  {
   "cell_type": "code",
   "execution_count": 3,
   "id": "9bd5bb34eacfd39",
   "metadata": {
    "collapsed": false,
    "ExecuteTime": {
     "end_time": "2023-09-25T13:58:44.929863900Z",
     "start_time": "2023-09-25T13:58:44.811534500Z"
    }
   },
   "outputs": [
    {
     "name": "stdout",
     "output_type": "stream",
     "text": [
      "Connection Successfully!\n"
     ]
    }
   ],
   "source": [
    "SERVER = \"LAPTOP-STSGIRJL\\MINHAN\"\n",
    "DATABASE = 'NEWDATABASE'\n",
    "USERNAME = 'sa'\n",
    "PASSWORD = '12345'\n",
    "connectionString = f'DRIVER={{SQL Server}};SERVER={SERVER};DATABASE={DATABASE};UID={USERNAME};PWD={PASSWORD}'\n",
    "conn = pyodbc.connect(connectionString)\n",
    "print(\"Connection Successfully!\")"
   ]
  },
  {
   "cell_type": "code",
   "execution_count": 4,
   "id": "129bd5914f18d6e9",
   "metadata": {
    "collapsed": false,
    "ExecuteTime": {
     "end_time": "2023-09-25T13:58:45.542448500Z",
     "start_time": "2023-09-25T13:58:45.539205800Z"
    }
   },
   "outputs": [],
   "source": [
    "def execute(statement, column: list):\n",
    "    cursor = conn.cursor()\n",
    "    cursor.execute(statement)\n",
    "    records = cursor.fetchall()\n",
    "    cursor.close()\n",
    "    return pd.DataFrame(np.array(records), columns=[a for a in column])"
   ]
  },
  {
   "cell_type": "code",
   "execution_count": 14,
   "outputs": [
    {
     "data": {
      "text/plain": "         1                                                 2   3   \\\n0    609966               Charles G Hammond Elementary School  ES   \n1    610539                   Marvin Camras Elementary School  ES   \n2    609852                  Eliza Chappell Elementary School  ES   \n3    609835                Daniel R Cameron Elementary School  ES   \n4    610521         Sir Miles Davis Magnet Elementary Academy  ES   \n..      ...                                               ...  ..   \n561  610506      TEAM Englewood Community Academy High School  HS   \n562  610350           Robert A Black Magnet Elementary School  ES   \n563  610154                Martin A Ryerson Elementary School  ES   \n564  610384  Infinity Math Science and Technology High School  HS   \n565  609870                Daniel J Corkery Elementary School  ES   \n\n                         4        5   6      7               8   \\\n0           2819 W 21st Pl   Chicago  IL  60623  (773) 535-4580   \n1         3000 N Mango Ave   Chicago  IL  60634  (773) 534-2960   \n2        2135 W Foster Ave   Chicago  IL  60625  (773) 534-2390   \n3    1234 N Monticello Ave   Chicago  IL  60651  (773) 534-4290   \n4        6730 S Paulina St   Chicago  IL  60636  (773) 535-9120   \n..                      ...      ...  ..    ...             ...   \n561     6201 S Stewart Ave   Chicago  IL  60621  (773) 535-3530   \n562      9101 S Euclid Ave   Chicago  IL  60619  (773) 535-6390   \n563     646 N Lawndale Ave   Chicago  IL  60624  (773) 534-6700   \n564     3120 S Kostner Ave   Chicago  IL  60623  (773) 535-4225   \n565     2510 S Kildare Ave   Chicago  IL  60623  (773) 534-1650   \n\n                                                    9   \\\n0    http://schoolreports.cps.edu/SchoolProgressRep...   \n1    http://schoolreports.cps.edu/SchoolProgressRep...   \n2    http://schoolreports.cps.edu/SchoolProgressRep...   \n3    http://schoolreports.cps.edu/SchoolProgressRep...   \n4    http://schoolreports.cps.edu/SchoolProgressRep...   \n..                                                 ...   \n561  http://schoolreports.cps.edu/SchoolProgressRep...   \n562  http://schoolreports.cps.edu/SchoolProgressRep...   \n563  http://schoolreports.cps.edu/SchoolProgressRep...   \n564  http://schoolreports.cps.edu/SchoolProgressRep...   \n565  http://schoolreports.cps.edu/SchoolProgressRep...   \n\n                                           10  ...               70  \\\n0    Pilsen-Little Village Elementary Network  ...  150000000000000   \n1                Fullerton Elementary Network  ...  150000000000000   \n2         Ravenswood-Ridge Elementary Network  ...  150000000000000   \n3        Garfield-Humboldt Elementary Network  ...  150000000000000   \n4        Englewood-Gresham Elementary Network  ...  150000000000000   \n..                                        ...  ...              ...   \n561        Southwest Side High School Network  ...  150000000000000   \n562                 Skyway Elementary Network  ...  150000000000000   \n563      Garfield-Humboldt Elementary Network  ...  150000000000000   \n564             West Side High School Network  ...  150000000000000   \n565  Pilsen-Little Village Elementary Network  ...  150000000000000   \n\n              71           72         73         74  75               76  77  \\\n0      1157809.0  1889554.625  41.852692 -87.696281  30   SOUTH LAWNDALE  12   \n1     1137482.25  1919394.875  41.934967 -87.770164  19   BELMONT CRAGIN  30   \n2    1161016.875    1934466.5  41.975868 -87.683258   4   LINCOLN SQUARE  47   \n3      1151767.5  1908130.125  41.903786 -87.717964  23    HUMBOLDT PARK  26   \n4    1166133.875    1859929.0  41.771221 -87.666565  67   WEST ENGLEWOOD  15   \n..           ...          ...        ...        ...  ..              ...  ..   \n561  1174730.375  1863740.125  41.781494 -87.634941  68        ENGLEWOOD  20   \n562  1190807.375    1844986.0  41.729656 -87.576607  48  CALUMET HEIGHTS   8   \n563   1151558.25   1904275.25  41.893211 -87.718834  23    HUMBOLDT PARK  27   \n564   1147521.25  1883405.125  41.836021 -87.734192  30   SOUTH LAWNDALE  22   \n565  1148304.875  1886901.375    41.8456 -87.731232  30   SOUTH LAWNDALE  22   \n\n     78                           79  \n0    10  (41.85269133, -87.69627777)  \n1    25  (41.93496641, -87.77016525)  \n2    20    (41.975867, -87.68325438)  \n3    25  (41.90378521, -87.71796315)  \n4     7  (41.77122181, -87.66656657)  \n..   ..                          ...  \n561   7   (41.7814927, -87.63494163)  \n562   4  (41.72965645, -87.57660534)  \n563  11  (41.89321142, -87.71883334)  \n564  10  (41.83601953, -87.73419465)  \n565  10  (41.84559878, -87.73122946)  \n\n[566 rows x 79 columns]",
      "text/html": "<div>\n<style scoped>\n    .dataframe tbody tr th:only-of-type {\n        vertical-align: middle;\n    }\n\n    .dataframe tbody tr th {\n        vertical-align: top;\n    }\n\n    .dataframe thead th {\n        text-align: right;\n    }\n</style>\n<table border=\"1\" class=\"dataframe\">\n  <thead>\n    <tr style=\"text-align: right;\">\n      <th></th>\n      <th>1</th>\n      <th>2</th>\n      <th>3</th>\n      <th>4</th>\n      <th>5</th>\n      <th>6</th>\n      <th>7</th>\n      <th>8</th>\n      <th>9</th>\n      <th>10</th>\n      <th>...</th>\n      <th>70</th>\n      <th>71</th>\n      <th>72</th>\n      <th>73</th>\n      <th>74</th>\n      <th>75</th>\n      <th>76</th>\n      <th>77</th>\n      <th>78</th>\n      <th>79</th>\n    </tr>\n  </thead>\n  <tbody>\n    <tr>\n      <th>0</th>\n      <td>609966</td>\n      <td>Charles G Hammond Elementary School</td>\n      <td>ES</td>\n      <td>2819 W 21st Pl</td>\n      <td>Chicago</td>\n      <td>IL</td>\n      <td>60623</td>\n      <td>(773) 535-4580</td>\n      <td>http://schoolreports.cps.edu/SchoolProgressRep...</td>\n      <td>Pilsen-Little Village Elementary Network</td>\n      <td>...</td>\n      <td>150000000000000</td>\n      <td>1157809.0</td>\n      <td>1889554.625</td>\n      <td>41.852692</td>\n      <td>-87.696281</td>\n      <td>30</td>\n      <td>SOUTH LAWNDALE</td>\n      <td>12</td>\n      <td>10</td>\n      <td>(41.85269133, -87.69627777)</td>\n    </tr>\n    <tr>\n      <th>1</th>\n      <td>610539</td>\n      <td>Marvin Camras Elementary School</td>\n      <td>ES</td>\n      <td>3000 N Mango Ave</td>\n      <td>Chicago</td>\n      <td>IL</td>\n      <td>60634</td>\n      <td>(773) 534-2960</td>\n      <td>http://schoolreports.cps.edu/SchoolProgressRep...</td>\n      <td>Fullerton Elementary Network</td>\n      <td>...</td>\n      <td>150000000000000</td>\n      <td>1137482.25</td>\n      <td>1919394.875</td>\n      <td>41.934967</td>\n      <td>-87.770164</td>\n      <td>19</td>\n      <td>BELMONT CRAGIN</td>\n      <td>30</td>\n      <td>25</td>\n      <td>(41.93496641, -87.77016525)</td>\n    </tr>\n    <tr>\n      <th>2</th>\n      <td>609852</td>\n      <td>Eliza Chappell Elementary School</td>\n      <td>ES</td>\n      <td>2135 W Foster Ave</td>\n      <td>Chicago</td>\n      <td>IL</td>\n      <td>60625</td>\n      <td>(773) 534-2390</td>\n      <td>http://schoolreports.cps.edu/SchoolProgressRep...</td>\n      <td>Ravenswood-Ridge Elementary Network</td>\n      <td>...</td>\n      <td>150000000000000</td>\n      <td>1161016.875</td>\n      <td>1934466.5</td>\n      <td>41.975868</td>\n      <td>-87.683258</td>\n      <td>4</td>\n      <td>LINCOLN SQUARE</td>\n      <td>47</td>\n      <td>20</td>\n      <td>(41.975867, -87.68325438)</td>\n    </tr>\n    <tr>\n      <th>3</th>\n      <td>609835</td>\n      <td>Daniel R Cameron Elementary School</td>\n      <td>ES</td>\n      <td>1234 N Monticello Ave</td>\n      <td>Chicago</td>\n      <td>IL</td>\n      <td>60651</td>\n      <td>(773) 534-4290</td>\n      <td>http://schoolreports.cps.edu/SchoolProgressRep...</td>\n      <td>Garfield-Humboldt Elementary Network</td>\n      <td>...</td>\n      <td>150000000000000</td>\n      <td>1151767.5</td>\n      <td>1908130.125</td>\n      <td>41.903786</td>\n      <td>-87.717964</td>\n      <td>23</td>\n      <td>HUMBOLDT PARK</td>\n      <td>26</td>\n      <td>25</td>\n      <td>(41.90378521, -87.71796315)</td>\n    </tr>\n    <tr>\n      <th>4</th>\n      <td>610521</td>\n      <td>Sir Miles Davis Magnet Elementary Academy</td>\n      <td>ES</td>\n      <td>6730 S Paulina St</td>\n      <td>Chicago</td>\n      <td>IL</td>\n      <td>60636</td>\n      <td>(773) 535-9120</td>\n      <td>http://schoolreports.cps.edu/SchoolProgressRep...</td>\n      <td>Englewood-Gresham Elementary Network</td>\n      <td>...</td>\n      <td>150000000000000</td>\n      <td>1166133.875</td>\n      <td>1859929.0</td>\n      <td>41.771221</td>\n      <td>-87.666565</td>\n      <td>67</td>\n      <td>WEST ENGLEWOOD</td>\n      <td>15</td>\n      <td>7</td>\n      <td>(41.77122181, -87.66656657)</td>\n    </tr>\n    <tr>\n      <th>...</th>\n      <td>...</td>\n      <td>...</td>\n      <td>...</td>\n      <td>...</td>\n      <td>...</td>\n      <td>...</td>\n      <td>...</td>\n      <td>...</td>\n      <td>...</td>\n      <td>...</td>\n      <td>...</td>\n      <td>...</td>\n      <td>...</td>\n      <td>...</td>\n      <td>...</td>\n      <td>...</td>\n      <td>...</td>\n      <td>...</td>\n      <td>...</td>\n      <td>...</td>\n      <td>...</td>\n    </tr>\n    <tr>\n      <th>561</th>\n      <td>610506</td>\n      <td>TEAM Englewood Community Academy High School</td>\n      <td>HS</td>\n      <td>6201 S Stewart Ave</td>\n      <td>Chicago</td>\n      <td>IL</td>\n      <td>60621</td>\n      <td>(773) 535-3530</td>\n      <td>http://schoolreports.cps.edu/SchoolProgressRep...</td>\n      <td>Southwest Side High School Network</td>\n      <td>...</td>\n      <td>150000000000000</td>\n      <td>1174730.375</td>\n      <td>1863740.125</td>\n      <td>41.781494</td>\n      <td>-87.634941</td>\n      <td>68</td>\n      <td>ENGLEWOOD</td>\n      <td>20</td>\n      <td>7</td>\n      <td>(41.7814927, -87.63494163)</td>\n    </tr>\n    <tr>\n      <th>562</th>\n      <td>610350</td>\n      <td>Robert A Black Magnet Elementary School</td>\n      <td>ES</td>\n      <td>9101 S Euclid Ave</td>\n      <td>Chicago</td>\n      <td>IL</td>\n      <td>60619</td>\n      <td>(773) 535-6390</td>\n      <td>http://schoolreports.cps.edu/SchoolProgressRep...</td>\n      <td>Skyway Elementary Network</td>\n      <td>...</td>\n      <td>150000000000000</td>\n      <td>1190807.375</td>\n      <td>1844986.0</td>\n      <td>41.729656</td>\n      <td>-87.576607</td>\n      <td>48</td>\n      <td>CALUMET HEIGHTS</td>\n      <td>8</td>\n      <td>4</td>\n      <td>(41.72965645, -87.57660534)</td>\n    </tr>\n    <tr>\n      <th>563</th>\n      <td>610154</td>\n      <td>Martin A Ryerson Elementary School</td>\n      <td>ES</td>\n      <td>646 N Lawndale Ave</td>\n      <td>Chicago</td>\n      <td>IL</td>\n      <td>60624</td>\n      <td>(773) 534-6700</td>\n      <td>http://schoolreports.cps.edu/SchoolProgressRep...</td>\n      <td>Garfield-Humboldt Elementary Network</td>\n      <td>...</td>\n      <td>150000000000000</td>\n      <td>1151558.25</td>\n      <td>1904275.25</td>\n      <td>41.893211</td>\n      <td>-87.718834</td>\n      <td>23</td>\n      <td>HUMBOLDT PARK</td>\n      <td>27</td>\n      <td>11</td>\n      <td>(41.89321142, -87.71883334)</td>\n    </tr>\n    <tr>\n      <th>564</th>\n      <td>610384</td>\n      <td>Infinity Math Science and Technology High School</td>\n      <td>HS</td>\n      <td>3120 S Kostner Ave</td>\n      <td>Chicago</td>\n      <td>IL</td>\n      <td>60623</td>\n      <td>(773) 535-4225</td>\n      <td>http://schoolreports.cps.edu/SchoolProgressRep...</td>\n      <td>West Side High School Network</td>\n      <td>...</td>\n      <td>150000000000000</td>\n      <td>1147521.25</td>\n      <td>1883405.125</td>\n      <td>41.836021</td>\n      <td>-87.734192</td>\n      <td>30</td>\n      <td>SOUTH LAWNDALE</td>\n      <td>22</td>\n      <td>10</td>\n      <td>(41.83601953, -87.73419465)</td>\n    </tr>\n    <tr>\n      <th>565</th>\n      <td>609870</td>\n      <td>Daniel J Corkery Elementary School</td>\n      <td>ES</td>\n      <td>2510 S Kildare Ave</td>\n      <td>Chicago</td>\n      <td>IL</td>\n      <td>60623</td>\n      <td>(773) 534-1650</td>\n      <td>http://schoolreports.cps.edu/SchoolProgressRep...</td>\n      <td>Pilsen-Little Village Elementary Network</td>\n      <td>...</td>\n      <td>150000000000000</td>\n      <td>1148304.875</td>\n      <td>1886901.375</td>\n      <td>41.8456</td>\n      <td>-87.731232</td>\n      <td>30</td>\n      <td>SOUTH LAWNDALE</td>\n      <td>22</td>\n      <td>10</td>\n      <td>(41.84559878, -87.73122946)</td>\n    </tr>\n  </tbody>\n</table>\n<p>566 rows × 79 columns</p>\n</div>"
     },
     "execution_count": 14,
     "metadata": {},
     "output_type": "execute_result"
    }
   ],
   "source": [
    "result = execute(\"\"\"\n",
    "SELECT *\n",
    "FROM SCHOOL s\n",
    "\"\"\",[a for a in range(1,80)] )\n",
    "total = result.copy()\n",
    "total"
   ],
   "metadata": {
    "collapsed": false,
    "ExecuteTime": {
     "end_time": "2023-09-25T14:03:26.904719200Z",
     "start_time": "2023-09-25T14:03:26.857409500Z"
    }
   },
   "id": "ca10b6301ecfd79a"
  },
  {
   "cell_type": "code",
   "execution_count": 5,
   "id": "de918c9cc89b4ade",
   "metadata": {
    "collapsed": false,
    "ExecuteTime": {
     "end_time": "2023-09-25T13:58:46.746569300Z",
     "start_time": "2023-09-25T13:58:46.712200700Z"
    }
   },
   "outputs": [
    {
     "data": {
      "text/plain": "  SCHOOL_ID                                     NAME_OF_SCHOOL  \\\n0    400018  Austin Business and Entrepreneurship Academy H...   \n1    609674      Chicago Vocational Career Academy High School   \n2    609676    Paul Laurence Dunbar Career Academy High School   \n3    609678      William Jones College Preparatory High School   \n4    609679   Charles Allen Prosser Career Academy High School   \n5    609680      Walter Payton College Preparatory High School   \n6    609682        Ellen H Richards Career Academy High School   \n7    609691                            North-Grand High School   \n8    609692           Neal F Simeon Career Academy High School   \n9    609693                    George Westinghouse High School   \n\n  Elementary_Middle_or_High_School  \n0                               HS  \n1                               HS  \n2                               HS  \n3                               HS  \n4                               HS  \n5                               HS  \n6                               HS  \n7                               HS  \n8                               HS  \n9                               HS  ",
      "text/html": "<div>\n<style scoped>\n    .dataframe tbody tr th:only-of-type {\n        vertical-align: middle;\n    }\n\n    .dataframe tbody tr th {\n        vertical-align: top;\n    }\n\n    .dataframe thead th {\n        text-align: right;\n    }\n</style>\n<table border=\"1\" class=\"dataframe\">\n  <thead>\n    <tr style=\"text-align: right;\">\n      <th></th>\n      <th>SCHOOL_ID</th>\n      <th>NAME_OF_SCHOOL</th>\n      <th>Elementary_Middle_or_High_School</th>\n    </tr>\n  </thead>\n  <tbody>\n    <tr>\n      <th>0</th>\n      <td>400018</td>\n      <td>Austin Business and Entrepreneurship Academy H...</td>\n      <td>HS</td>\n    </tr>\n    <tr>\n      <th>1</th>\n      <td>609674</td>\n      <td>Chicago Vocational Career Academy High School</td>\n      <td>HS</td>\n    </tr>\n    <tr>\n      <th>2</th>\n      <td>609676</td>\n      <td>Paul Laurence Dunbar Career Academy High School</td>\n      <td>HS</td>\n    </tr>\n    <tr>\n      <th>3</th>\n      <td>609678</td>\n      <td>William Jones College Preparatory High School</td>\n      <td>HS</td>\n    </tr>\n    <tr>\n      <th>4</th>\n      <td>609679</td>\n      <td>Charles Allen Prosser Career Academy High School</td>\n      <td>HS</td>\n    </tr>\n    <tr>\n      <th>5</th>\n      <td>609680</td>\n      <td>Walter Payton College Preparatory High School</td>\n      <td>HS</td>\n    </tr>\n    <tr>\n      <th>6</th>\n      <td>609682</td>\n      <td>Ellen H Richards Career Academy High School</td>\n      <td>HS</td>\n    </tr>\n    <tr>\n      <th>7</th>\n      <td>609691</td>\n      <td>North-Grand High School</td>\n      <td>HS</td>\n    </tr>\n    <tr>\n      <th>8</th>\n      <td>609692</td>\n      <td>Neal F Simeon Career Academy High School</td>\n      <td>HS</td>\n    </tr>\n    <tr>\n      <th>9</th>\n      <td>609693</td>\n      <td>George Westinghouse High School</td>\n      <td>HS</td>\n    </tr>\n  </tbody>\n</table>\n</div>"
     },
     "execution_count": 5,
     "metadata": {},
     "output_type": "execute_result"
    }
   ],
   "source": [
    "result = execute(\"\"\"\n",
    "SELECT TOP 10\n",
    "    SCHOOL_ID,\n",
    "    NAME_OF_SCHOOL,\n",
    "    Elementary_Middle_or_High_School \n",
    "FROM SCHOOL s\n",
    "ORDER BY SCHOOL_ID\n",
    "\"\"\",['SCHOOL_ID',\n",
    "     'NAME_OF_SCHOOL',\n",
    "     'Elementary_Middle_or_High_School'] )\n",
    "result"
   ]
  },
  {
   "cell_type": "code",
   "execution_count": 6,
   "id": "3bce7ceab639e12e",
   "metadata": {
    "collapsed": false,
    "ExecuteTime": {
     "end_time": "2023-09-25T13:58:48.529484200Z",
     "start_time": "2023-09-25T13:58:48.519578900Z"
    }
   },
   "outputs": [
    {
     "data": {
      "text/plain": "    SCHOOL_ID                                    Name_of_School  \\\n0      609966               Charles G Hammond Elementary School   \n1      609835                Daniel R Cameron Elementary School   \n2      610056                 Roswell B Mason Elementary School   \n3      610123                    William Penn Elementary School   \n4      609863            Christopher Columbus Elementary School   \n..        ...                                               ...   \n136    609834                  Little Village Elementary School   \n137    609812                 William H Brown Elementary School   \n138    610154                Martin A Ryerson Elementary School   \n139    610384  Infinity Math Science and Technology High School   \n140    609870                Daniel J Corkery Elementary School   \n\n          Collaborative Name  \n0    WEST SIDE COLLABORATIVE  \n1    WEST SIDE COLLABORATIVE  \n2    WEST SIDE COLLABORATIVE  \n3    WEST SIDE COLLABORATIVE  \n4    WEST SIDE COLLABORATIVE  \n..                       ...  \n136  WEST SIDE COLLABORATIVE  \n137  WEST SIDE COLLABORATIVE  \n138  WEST SIDE COLLABORATIVE  \n139  WEST SIDE COLLABORATIVE  \n140  WEST SIDE COLLABORATIVE  \n\n[141 rows x 3 columns]",
      "text/html": "<div>\n<style scoped>\n    .dataframe tbody tr th:only-of-type {\n        vertical-align: middle;\n    }\n\n    .dataframe tbody tr th {\n        vertical-align: top;\n    }\n\n    .dataframe thead th {\n        text-align: right;\n    }\n</style>\n<table border=\"1\" class=\"dataframe\">\n  <thead>\n    <tr style=\"text-align: right;\">\n      <th></th>\n      <th>SCHOOL_ID</th>\n      <th>Name_of_School</th>\n      <th>Collaborative Name</th>\n    </tr>\n  </thead>\n  <tbody>\n    <tr>\n      <th>0</th>\n      <td>609966</td>\n      <td>Charles G Hammond Elementary School</td>\n      <td>WEST SIDE COLLABORATIVE</td>\n    </tr>\n    <tr>\n      <th>1</th>\n      <td>609835</td>\n      <td>Daniel R Cameron Elementary School</td>\n      <td>WEST SIDE COLLABORATIVE</td>\n    </tr>\n    <tr>\n      <th>2</th>\n      <td>610056</td>\n      <td>Roswell B Mason Elementary School</td>\n      <td>WEST SIDE COLLABORATIVE</td>\n    </tr>\n    <tr>\n      <th>3</th>\n      <td>610123</td>\n      <td>William Penn Elementary School</td>\n      <td>WEST SIDE COLLABORATIVE</td>\n    </tr>\n    <tr>\n      <th>4</th>\n      <td>609863</td>\n      <td>Christopher Columbus Elementary School</td>\n      <td>WEST SIDE COLLABORATIVE</td>\n    </tr>\n    <tr>\n      <th>...</th>\n      <td>...</td>\n      <td>...</td>\n      <td>...</td>\n    </tr>\n    <tr>\n      <th>136</th>\n      <td>609834</td>\n      <td>Little Village Elementary School</td>\n      <td>WEST SIDE COLLABORATIVE</td>\n    </tr>\n    <tr>\n      <th>137</th>\n      <td>609812</td>\n      <td>William H Brown Elementary School</td>\n      <td>WEST SIDE COLLABORATIVE</td>\n    </tr>\n    <tr>\n      <th>138</th>\n      <td>610154</td>\n      <td>Martin A Ryerson Elementary School</td>\n      <td>WEST SIDE COLLABORATIVE</td>\n    </tr>\n    <tr>\n      <th>139</th>\n      <td>610384</td>\n      <td>Infinity Math Science and Technology High School</td>\n      <td>WEST SIDE COLLABORATIVE</td>\n    </tr>\n    <tr>\n      <th>140</th>\n      <td>609870</td>\n      <td>Daniel J Corkery Elementary School</td>\n      <td>WEST SIDE COLLABORATIVE</td>\n    </tr>\n  </tbody>\n</table>\n<p>141 rows × 3 columns</p>\n</div>"
     },
     "execution_count": 6,
     "metadata": {},
     "output_type": "execute_result"
    }
   ],
   "source": [
    "result = execute(\"\"\"\n",
    "SELECT \n",
    "    SCHOOL_ID,\n",
    "    Name_of_School,\n",
    "    Collaborative_Name\n",
    "FROM SCHOOL\n",
    "WHERE Collaborative_Name = 'WEST SIDE COLLABORATIVE'\n",
    "\"\"\",[\n",
    "    'SCHOOL_ID',\n",
    "    'Name_of_School',\n",
    "    'Collaborative Name'] )\n",
    "result"
   ]
  },
  {
   "cell_type": "code",
   "execution_count": 7,
   "id": "c834858f3b5d1b09",
   "metadata": {
    "collapsed": false,
    "ExecuteTime": {
     "end_time": "2023-09-25T13:58:49.481900700Z",
     "start_time": "2023-09-25T13:58:49.450447100Z"
    }
   },
   "outputs": [
    {
     "data": {
      "text/plain": "                                       Name_of_School Safety_Score\n0       Walter Payton College Preparatory High School           98\n1                   Abraham Lincoln Elementary School           99\n2           Northside College Preparatory High School           99\n3                       Edison Park Elementary School           95\n4             Alexander Graham Bell Elementary School           99\n5                   Frederic Chopin Elementary School           86\n6                       Oriole Park Elementary School           99\n7          Andrew Jackson Elementary Language Academy           86\n8   Amelia Earhart Options for Knowledge Elementar...           81\n9                   Thomas J Waters Elementary School           85\n10                Albert G Lane Technical High School           88\n11               William H Prescott Elementary School           90\n12   Mary E Courtenay Elementary Language Arts Center           99\n13                    Philip Rogers Elementary School           81\n14               Franklin Elementary Fine Arts Center           87\n15                   Ellen Mitchell Elementary School           99\n16        Stephen Decatur Classical Elementary School           99\n17         James E McDade Elementary Classical School           99\n18                     Mark Skinner Elementary School           87\n19                     Norwood Park Elementary School           99\n20                   John J Audubon Elementary School           95\n21        Edgar Allan Poe Elementary Classical School           99\n22       Annie Keller Elementary Gifted Magnet School           99\n23                   James G Blaine Elementary School           99\n24                Augustus H Burley Elementary School           99\n25                   John C Coonley Elementary School           87\n26                  Mount Greenwood Elementary School           84\n27                           Talman Elementary School           99\n28            Hawthorne Elementary Scholastic Academy           92\n29                       South Loop Elementary School           84\n30                   Arthur E Canty Elementary School           87\n31                 Whitney M Young Magnet High School           95\n32      William Jones College Preparatory High School           92\n33             Ray Graham Training Center High School           90\n34                       James Otis Elementary School           83\n35                        Edgebrook Elementary School           99\n36              Northside Learning Center High School           99\n37                LaSalle Elementary Language Academy           99\n38           Elizabeth H Sutherland Elementary School           86\n39                    John B Murphy Elementary School           80\n40                        Sauganash Elementary School           99\n41                         Wildwood Elementary School           99\n42  Thomas A Edison Regional Gifted Center Element...           91\n43      Chicago High School for Agricultural Sciences           87",
      "text/html": "<div>\n<style scoped>\n    .dataframe tbody tr th:only-of-type {\n        vertical-align: middle;\n    }\n\n    .dataframe tbody tr th {\n        vertical-align: top;\n    }\n\n    .dataframe thead th {\n        text-align: right;\n    }\n</style>\n<table border=\"1\" class=\"dataframe\">\n  <thead>\n    <tr style=\"text-align: right;\">\n      <th></th>\n      <th>Name_of_School</th>\n      <th>Safety_Score</th>\n    </tr>\n  </thead>\n  <tbody>\n    <tr>\n      <th>0</th>\n      <td>Walter Payton College Preparatory High School</td>\n      <td>98</td>\n    </tr>\n    <tr>\n      <th>1</th>\n      <td>Abraham Lincoln Elementary School</td>\n      <td>99</td>\n    </tr>\n    <tr>\n      <th>2</th>\n      <td>Northside College Preparatory High School</td>\n      <td>99</td>\n    </tr>\n    <tr>\n      <th>3</th>\n      <td>Edison Park Elementary School</td>\n      <td>95</td>\n    </tr>\n    <tr>\n      <th>4</th>\n      <td>Alexander Graham Bell Elementary School</td>\n      <td>99</td>\n    </tr>\n    <tr>\n      <th>5</th>\n      <td>Frederic Chopin Elementary School</td>\n      <td>86</td>\n    </tr>\n    <tr>\n      <th>6</th>\n      <td>Oriole Park Elementary School</td>\n      <td>99</td>\n    </tr>\n    <tr>\n      <th>7</th>\n      <td>Andrew Jackson Elementary Language Academy</td>\n      <td>86</td>\n    </tr>\n    <tr>\n      <th>8</th>\n      <td>Amelia Earhart Options for Knowledge Elementar...</td>\n      <td>81</td>\n    </tr>\n    <tr>\n      <th>9</th>\n      <td>Thomas J Waters Elementary School</td>\n      <td>85</td>\n    </tr>\n    <tr>\n      <th>10</th>\n      <td>Albert G Lane Technical High School</td>\n      <td>88</td>\n    </tr>\n    <tr>\n      <th>11</th>\n      <td>William H Prescott Elementary School</td>\n      <td>90</td>\n    </tr>\n    <tr>\n      <th>12</th>\n      <td>Mary E Courtenay Elementary Language Arts Center</td>\n      <td>99</td>\n    </tr>\n    <tr>\n      <th>13</th>\n      <td>Philip Rogers Elementary School</td>\n      <td>81</td>\n    </tr>\n    <tr>\n      <th>14</th>\n      <td>Franklin Elementary Fine Arts Center</td>\n      <td>87</td>\n    </tr>\n    <tr>\n      <th>15</th>\n      <td>Ellen Mitchell Elementary School</td>\n      <td>99</td>\n    </tr>\n    <tr>\n      <th>16</th>\n      <td>Stephen Decatur Classical Elementary School</td>\n      <td>99</td>\n    </tr>\n    <tr>\n      <th>17</th>\n      <td>James E McDade Elementary Classical School</td>\n      <td>99</td>\n    </tr>\n    <tr>\n      <th>18</th>\n      <td>Mark Skinner Elementary School</td>\n      <td>87</td>\n    </tr>\n    <tr>\n      <th>19</th>\n      <td>Norwood Park Elementary School</td>\n      <td>99</td>\n    </tr>\n    <tr>\n      <th>20</th>\n      <td>John J Audubon Elementary School</td>\n      <td>95</td>\n    </tr>\n    <tr>\n      <th>21</th>\n      <td>Edgar Allan Poe Elementary Classical School</td>\n      <td>99</td>\n    </tr>\n    <tr>\n      <th>22</th>\n      <td>Annie Keller Elementary Gifted Magnet School</td>\n      <td>99</td>\n    </tr>\n    <tr>\n      <th>23</th>\n      <td>James G Blaine Elementary School</td>\n      <td>99</td>\n    </tr>\n    <tr>\n      <th>24</th>\n      <td>Augustus H Burley Elementary School</td>\n      <td>99</td>\n    </tr>\n    <tr>\n      <th>25</th>\n      <td>John C Coonley Elementary School</td>\n      <td>87</td>\n    </tr>\n    <tr>\n      <th>26</th>\n      <td>Mount Greenwood Elementary School</td>\n      <td>84</td>\n    </tr>\n    <tr>\n      <th>27</th>\n      <td>Talman Elementary School</td>\n      <td>99</td>\n    </tr>\n    <tr>\n      <th>28</th>\n      <td>Hawthorne Elementary Scholastic Academy</td>\n      <td>92</td>\n    </tr>\n    <tr>\n      <th>29</th>\n      <td>South Loop Elementary School</td>\n      <td>84</td>\n    </tr>\n    <tr>\n      <th>30</th>\n      <td>Arthur E Canty Elementary School</td>\n      <td>87</td>\n    </tr>\n    <tr>\n      <th>31</th>\n      <td>Whitney M Young Magnet High School</td>\n      <td>95</td>\n    </tr>\n    <tr>\n      <th>32</th>\n      <td>William Jones College Preparatory High School</td>\n      <td>92</td>\n    </tr>\n    <tr>\n      <th>33</th>\n      <td>Ray Graham Training Center High School</td>\n      <td>90</td>\n    </tr>\n    <tr>\n      <th>34</th>\n      <td>James Otis Elementary School</td>\n      <td>83</td>\n    </tr>\n    <tr>\n      <th>35</th>\n      <td>Edgebrook Elementary School</td>\n      <td>99</td>\n    </tr>\n    <tr>\n      <th>36</th>\n      <td>Northside Learning Center High School</td>\n      <td>99</td>\n    </tr>\n    <tr>\n      <th>37</th>\n      <td>LaSalle Elementary Language Academy</td>\n      <td>99</td>\n    </tr>\n    <tr>\n      <th>38</th>\n      <td>Elizabeth H Sutherland Elementary School</td>\n      <td>86</td>\n    </tr>\n    <tr>\n      <th>39</th>\n      <td>John B Murphy Elementary School</td>\n      <td>80</td>\n    </tr>\n    <tr>\n      <th>40</th>\n      <td>Sauganash Elementary School</td>\n      <td>99</td>\n    </tr>\n    <tr>\n      <th>41</th>\n      <td>Wildwood Elementary School</td>\n      <td>99</td>\n    </tr>\n    <tr>\n      <th>42</th>\n      <td>Thomas A Edison Regional Gifted Center Element...</td>\n      <td>91</td>\n    </tr>\n    <tr>\n      <th>43</th>\n      <td>Chicago High School for Agricultural Sciences</td>\n      <td>87</td>\n    </tr>\n  </tbody>\n</table>\n</div>"
     },
     "execution_count": 7,
     "metadata": {},
     "output_type": "execute_result"
    }
   ],
   "source": [
    "result = execute(\"\"\"\n",
    "SELECT Name_of_School, Safety_Score\n",
    "FROM SCHOOL\n",
    "WHERE Safety_Score >= 80\n",
    "\"\"\",[\n",
    "    'Name_of_School', 'Safety_Score'] )\n",
    "result"
   ]
  },
  {
   "cell_type": "code",
   "execution_count": 9,
   "outputs": [
    {
     "data": {
      "text/plain": "                                        Name_of_School  \\\n0                John Charles Haines Elementary School   \n1                         James Ward Elementary School   \n2                      Rachel Carson Elementary School   \n3          Edgar Allan Poe Elementary Classical School   \n4        Orozco Fine Arts & Sciences Elementary School   \n..                                                 ...   \n561               Wendell Phillips Academy High School   \n562                                  Dyett High School   \n563       Barbara Vick Early Childhood & Family Center   \n564  Richard T Crane Technical Preparatory High School   \n565              Velma F Thomas Early Childhood Center   \n\n    Average_Student_Attendance  Average_Teacher_Attendance  \n0                    98.400002                   96.199997  \n1                    97.800003                   96.900002  \n2                    97.599998                   97.699997  \n3                    97.599998                   97.199997  \n4                    97.599998                   96.400002  \n..                         ...                         ...  \n561                       63.0                   96.099998  \n562                       62.5                        93.5  \n563                  60.900002                        95.5  \n564                  57.900002                   93.900002  \n565                       None                   95.599998  \n\n[566 rows x 3 columns]",
      "text/html": "<div>\n<style scoped>\n    .dataframe tbody tr th:only-of-type {\n        vertical-align: middle;\n    }\n\n    .dataframe tbody tr th {\n        vertical-align: top;\n    }\n\n    .dataframe thead th {\n        text-align: right;\n    }\n</style>\n<table border=\"1\" class=\"dataframe\">\n  <thead>\n    <tr style=\"text-align: right;\">\n      <th></th>\n      <th>Name_of_School</th>\n      <th>Average_Student_Attendance</th>\n      <th>Average_Teacher_Attendance</th>\n    </tr>\n  </thead>\n  <tbody>\n    <tr>\n      <th>0</th>\n      <td>John Charles Haines Elementary School</td>\n      <td>98.400002</td>\n      <td>96.199997</td>\n    </tr>\n    <tr>\n      <th>1</th>\n      <td>James Ward Elementary School</td>\n      <td>97.800003</td>\n      <td>96.900002</td>\n    </tr>\n    <tr>\n      <th>2</th>\n      <td>Rachel Carson Elementary School</td>\n      <td>97.599998</td>\n      <td>97.699997</td>\n    </tr>\n    <tr>\n      <th>3</th>\n      <td>Edgar Allan Poe Elementary Classical School</td>\n      <td>97.599998</td>\n      <td>97.199997</td>\n    </tr>\n    <tr>\n      <th>4</th>\n      <td>Orozco Fine Arts &amp; Sciences Elementary School</td>\n      <td>97.599998</td>\n      <td>96.400002</td>\n    </tr>\n    <tr>\n      <th>...</th>\n      <td>...</td>\n      <td>...</td>\n      <td>...</td>\n    </tr>\n    <tr>\n      <th>561</th>\n      <td>Wendell Phillips Academy High School</td>\n      <td>63.0</td>\n      <td>96.099998</td>\n    </tr>\n    <tr>\n      <th>562</th>\n      <td>Dyett High School</td>\n      <td>62.5</td>\n      <td>93.5</td>\n    </tr>\n    <tr>\n      <th>563</th>\n      <td>Barbara Vick Early Childhood &amp; Family Center</td>\n      <td>60.900002</td>\n      <td>95.5</td>\n    </tr>\n    <tr>\n      <th>564</th>\n      <td>Richard T Crane Technical Preparatory High School</td>\n      <td>57.900002</td>\n      <td>93.900002</td>\n    </tr>\n    <tr>\n      <th>565</th>\n      <td>Velma F Thomas Early Childhood Center</td>\n      <td>None</td>\n      <td>95.599998</td>\n    </tr>\n  </tbody>\n</table>\n<p>566 rows × 3 columns</p>\n</div>"
     },
     "execution_count": 9,
     "metadata": {},
     "output_type": "execute_result"
    }
   ],
   "source": [
    "result = execute(\"\"\"\n",
    "SELECT Name_of_School, Average_Student_Attendance, Average_Teacher_Attendance\n",
    "FROM SCHOOL\n",
    "ORDER BY Average_Student_Attendance DESC, Average_Teacher_Attendance DESC \n",
    "\"\"\",[\n",
    "    'Name_of_School', 'Average_Student_Attendance',' Average_Teacher_Attendance'\n",
    "    ] )\n",
    "result"
   ],
   "metadata": {
    "collapsed": false,
    "ExecuteTime": {
     "end_time": "2023-09-25T14:00:06.110913700Z",
     "start_time": "2023-09-25T14:00:06.079669200Z"
    }
   },
   "id": "7fd01b13f69f7339"
  },
  {
   "cell_type": "code",
   "execution_count": 17,
   "outputs": [
    {
     "name": "stdout",
     "output_type": "stream",
     "text": [
      "commit successfully\n"
     ]
    }
   ],
   "source": [
    "cursor = conn.cursor()\n",
    "cursor.execute(\"\"\"\n",
    "DELETE FROM SCHOOL \n",
    "WHERE Collaborative_Name = 'WEST SIDE COLLABORATIVE'\n",
    "\"\"\")\n",
    "cursor.commit()\n",
    "cursor.close()\n",
    "print(\"commit successfully\")"
   ],
   "metadata": {
    "collapsed": false,
    "ExecuteTime": {
     "end_time": "2023-09-25T14:08:16.868023400Z",
     "start_time": "2023-09-25T14:08:16.836266200Z"
    }
   },
   "id": "35086d66f664c9ea"
  },
  {
   "cell_type": "code",
   "execution_count": 19,
   "outputs": [
    {
     "data": {
      "text/plain": "                   Collaborative Name AMMOUNT\n0        FAR SOUTH SIDE COLLABORATIVE      65\n1  NORTH-NORTHWEST SIDE COLLABORATIVE     149\n2            SOUTH SIDE COLLABORATIVE      93\n3        SOUTHWEST SIDE COLLABORATIVE     118",
      "text/html": "<div>\n<style scoped>\n    .dataframe tbody tr th:only-of-type {\n        vertical-align: middle;\n    }\n\n    .dataframe tbody tr th {\n        vertical-align: top;\n    }\n\n    .dataframe thead th {\n        text-align: right;\n    }\n</style>\n<table border=\"1\" class=\"dataframe\">\n  <thead>\n    <tr style=\"text-align: right;\">\n      <th></th>\n      <th>Collaborative Name</th>\n      <th>AMMOUNT</th>\n    </tr>\n  </thead>\n  <tbody>\n    <tr>\n      <th>0</th>\n      <td>FAR SOUTH SIDE COLLABORATIVE</td>\n      <td>65</td>\n    </tr>\n    <tr>\n      <th>1</th>\n      <td>NORTH-NORTHWEST SIDE COLLABORATIVE</td>\n      <td>149</td>\n    </tr>\n    <tr>\n      <th>2</th>\n      <td>SOUTH SIDE COLLABORATIVE</td>\n      <td>93</td>\n    </tr>\n    <tr>\n      <th>3</th>\n      <td>SOUTHWEST SIDE COLLABORATIVE</td>\n      <td>118</td>\n    </tr>\n  </tbody>\n</table>\n</div>"
     },
     "execution_count": 19,
     "metadata": {},
     "output_type": "execute_result"
    }
   ],
   "source": [
    "result = execute(\"\"\"\n",
    "SELECT \n",
    "    Collaborative_Name,\n",
    "    COUNT(Collaborative_Name)\n",
    "FROM SCHOOL\n",
    "GROUP BY Collaborative_Name\n",
    "\"\"\",[\n",
    "    'Collaborative Name',\n",
    "    'AMMOUNT'] )\n",
    "result"
   ],
   "metadata": {
    "collapsed": false,
    "ExecuteTime": {
     "end_time": "2023-09-25T14:08:25.949037500Z",
     "start_time": "2023-09-25T14:08:25.928943300Z"
    }
   },
   "id": "25b87e702029c8f6"
  },
  {
   "cell_type": "code",
   "execution_count": 19,
   "outputs": [
    {
     "name": "stdout",
     "output_type": "stream",
     "text": [
      "Em yêu ADY\n"
     ]
    }
   ],
   "source": [
    "print(\"Em yêu ADY\")"
   ],
   "metadata": {
    "collapsed": false,
    "ExecuteTime": {
     "end_time": "2023-09-25T11:00:53.504514900Z",
     "start_time": "2023-09-25T11:00:53.488605300Z"
    }
   },
   "id": "cf9bd07c2b89824d"
  },
  {
   "cell_type": "code",
   "execution_count": 26,
   "outputs": [
    {
     "name": "stdout",
     "output_type": "stream",
     "text": [
      "commit successfully\n"
     ]
    }
   ],
   "source": [
    "cursor = conn.cursor()\n",
    "cursor.execute(\"\"\"\n",
    "INSERT INTO SCHOOL (School_ID, Name_of_School, Elementary_Middle_or_High_School, Street_Address, City, State, ZIP_Code, Phone_Number, Link, Network_Manager, Collaborative_Name, Adequate_Yearly_Progress_Made, Track_Schedule, CPS_Performance_Policy_Status, CPS_Performance_Policy_Level, Healthy_Schools_Certified, Safety_Icon, Safety_Score, Family_Involvement_Icon, Family_Involvement_Score, Environment_Icon, Environment_Score, Instruction_Icon, Instruction_Score, Leaders_Icon, Leaders_Score, Teachers_Icon, Teachers_Score, Parent_Engagement_Icon, Parent_Engagement_Score, Parent_Environment_Icon, Parent_Environment_Score, Average_Student_Attendance, Rate_of_Misconducts_per_100_students, Average_Teacher_Attendance, Individualized_Education_Program_Compliance_Rate, Pk_2_Literacy, Pk_2_Math, Gr3_5_Grade_Level_Math, Gr3_5_Grade_Level_Read, Gr3_5_Keep_Pace_Read, Gr3_5_Keep_Pace_Math, Gr6_8_Grade_Level_Math, Gr6_8_Grade_Level_Read, Gr6_8_Keep_Pace_Math, Gr6_8_Keep_Pace_Read, Gr_8_Explore_Math, Gr_8_Explore_Read, ISAT_Exceeding_Math, ISAT_Exceeding_Reading, ISAT_Value_Add_Math, ISAT_Value_Add_Read, ISAT_Value_Add_Color_Math, ISAT_Value_Add_Color_Read, Students_Taking_Algebra, Students_Passing_Algebra, _9th_Grade_EXPLORE_2009, _9th_Grade_EXPLORE_2010, _10th_Grade_PLAN_2009, _10th_Grade_PLAN_2010, Net_Change_EXPLORE_and_PLAN, _11th_Grade_Average_ACT_2011, Net_Change_PLAN_and_ACT, College_Eligibility, Graduation_Rate, College_Enrollment_Rate, College_Enrollment_number_of_students, General_Services_Route, Freshman_on_Track_Rate, RCDTS_Code, X_COORDINATE, Y_COORDINATE, Latitude, Longitude, Community_Area_Number, Community_Area_Name, Ward, Police_District, Location) \n",
    "VALUES \n",
    "(7276942, N'FPT UNIVERSITY', N'UNI', N'2819 W 21st Pl ', N'Chicago', N'IL', 60623, N'(773) 535-4580', N'http://schoolreports.cps.edu/SchoolProgressReport_Eng/Spring2011Eng_609966.pdf', N'Fullerton Elementary Network', N'WEST SIDE COLLABORATIVE', 0, N'Standard', N'Not on Probation', N'Not Enough Data', 0, N'Average', 54, N'Average', 58, N'Weak', 37, N'Average', 41, N'Very Strong', 83, N'Very Strong', 88, N'Average', 51, N'Strong', 55, 95.0999984741211, 4.3000001907348633, 0, 97.699996948242188, 47.5, 39.900001525878906, 30.799999237060547, 27.799999237060547, 47.799999237060547, 38.599998474121094, 41.099998474121094, 38.5, 49.200000762939453, 55.400001525878906, 15.300000190734863, 30.5, 11.199999809265137, 12, -1.7999999523162842, -0.30000001192092896, N'Red', N'Yellow', N'NDA', N'NDA', N'NDA', N'NDA', N'NDA', N'NDA', N'NDA', N'NDA', N'NDA', N'NDA', N'NDA', N'NDA', 826, 30, N'NDA', 150000000000000, 1137482.25, 1919394.875, 41.934967041015625, -87.7701644897461, 19, N'BELMONT CRAGIN', 30, 25, N'(41.93496641, -87.77016525)')\n",
    "\n",
    "\"\"\")\n",
    "cursor.commit()\n",
    "cursor.close()\n",
    "print(\"commit successfully\")"
   ],
   "metadata": {
    "collapsed": false,
    "ExecuteTime": {
     "end_time": "2023-09-25T14:22:15.105028900Z",
     "start_time": "2023-09-25T14:22:15.097275500Z"
    }
   },
   "id": "7d30eb678796ccd3"
  },
  {
   "cell_type": "code",
   "execution_count": 27,
   "outputs": [
    {
     "data": {
      "text/plain": "                   Collaborative Name AMMOUNT\n0        FAR SOUTH SIDE COLLABORATIVE      65\n1  NORTH-NORTHWEST SIDE COLLABORATIVE     150\n2            SOUTH SIDE COLLABORATIVE      93\n3        SOUTHWEST SIDE COLLABORATIVE     118\n4             WEST SIDE COLLABORATIVE       1",
      "text/html": "<div>\n<style scoped>\n    .dataframe tbody tr th:only-of-type {\n        vertical-align: middle;\n    }\n\n    .dataframe tbody tr th {\n        vertical-align: top;\n    }\n\n    .dataframe thead th {\n        text-align: right;\n    }\n</style>\n<table border=\"1\" class=\"dataframe\">\n  <thead>\n    <tr style=\"text-align: right;\">\n      <th></th>\n      <th>Collaborative Name</th>\n      <th>AMMOUNT</th>\n    </tr>\n  </thead>\n  <tbody>\n    <tr>\n      <th>0</th>\n      <td>FAR SOUTH SIDE COLLABORATIVE</td>\n      <td>65</td>\n    </tr>\n    <tr>\n      <th>1</th>\n      <td>NORTH-NORTHWEST SIDE COLLABORATIVE</td>\n      <td>150</td>\n    </tr>\n    <tr>\n      <th>2</th>\n      <td>SOUTH SIDE COLLABORATIVE</td>\n      <td>93</td>\n    </tr>\n    <tr>\n      <th>3</th>\n      <td>SOUTHWEST SIDE COLLABORATIVE</td>\n      <td>118</td>\n    </tr>\n    <tr>\n      <th>4</th>\n      <td>WEST SIDE COLLABORATIVE</td>\n      <td>1</td>\n    </tr>\n  </tbody>\n</table>\n</div>"
     },
     "execution_count": 27,
     "metadata": {},
     "output_type": "execute_result"
    }
   ],
   "source": [
    "result = execute(\"\"\"\n",
    "SELECT \n",
    "    Collaborative_Name,\n",
    "    COUNT(Collaborative_Name)\n",
    "FROM SCHOOL\n",
    "GROUP BY Collaborative_Name\n",
    "\"\"\",[\n",
    "    'Collaborative Name',\n",
    "    'AMMOUNT'] )\n",
    "result"
   ],
   "metadata": {
    "collapsed": false,
    "ExecuteTime": {
     "end_time": "2023-09-25T14:22:18.390775300Z",
     "start_time": "2023-09-25T14:22:18.378619700Z"
    }
   },
   "id": "360b8ebb7346b588"
  },
  {
   "cell_type": "code",
   "execution_count": 28,
   "outputs": [
    {
     "data": {
      "text/plain": "      SCHOOL NAME       Collaborative_Name\n0  FPT UNIVERSITY  WEST SIDE COLLABORATIVE",
      "text/html": "<div>\n<style scoped>\n    .dataframe tbody tr th:only-of-type {\n        vertical-align: middle;\n    }\n\n    .dataframe tbody tr th {\n        vertical-align: top;\n    }\n\n    .dataframe thead th {\n        text-align: right;\n    }\n</style>\n<table border=\"1\" class=\"dataframe\">\n  <thead>\n    <tr style=\"text-align: right;\">\n      <th></th>\n      <th>SCHOOL NAME</th>\n      <th>Collaborative_Name</th>\n    </tr>\n  </thead>\n  <tbody>\n    <tr>\n      <th>0</th>\n      <td>FPT UNIVERSITY</td>\n      <td>WEST SIDE COLLABORATIVE</td>\n    </tr>\n  </tbody>\n</table>\n</div>"
     },
     "execution_count": 28,
     "metadata": {},
     "output_type": "execute_result"
    }
   ],
   "source": [
    "result = execute(\"\"\"\n",
    "SELECT \n",
    "\tName_of_School,\n",
    "\tCollaborative_Name\n",
    "FROM SCHOOL\n",
    "WHERE School_ID = 7276942\n",
    "\"\"\",[\n",
    "    'SCHOOL NAME',\n",
    "    'Collaborative_Name'] )\n",
    "result"
   ],
   "metadata": {
    "collapsed": false,
    "ExecuteTime": {
     "end_time": "2023-09-25T14:24:18.948041800Z",
     "start_time": "2023-09-25T14:24:18.921886Z"
    }
   },
   "id": "70eea7362a945727"
  },
  {
   "cell_type": "code",
   "execution_count": 29,
   "outputs": [
    {
     "name": "stdout",
     "output_type": "stream",
     "text": [
      "commit successfully\n"
     ]
    }
   ],
   "source": [
    "cursor = conn.cursor()\n",
    "cursor.execute(\"\"\"\n",
    "UPDATE SCHOOL SET Name_of_School = 'FPT POLYTECHNIC' WHERE School_ID = 7276942\n",
    "\"\"\")\n",
    "cursor.commit()\n",
    "cursor.close()\n",
    "print(\"commit successfully\")"
   ],
   "metadata": {
    "collapsed": false,
    "ExecuteTime": {
     "end_time": "2023-09-25T14:26:54.809645100Z",
     "start_time": "2023-09-25T14:26:54.800437200Z"
    }
   },
   "id": "e37480f56b190615"
  },
  {
   "cell_type": "code",
   "execution_count": 30,
   "outputs": [
    {
     "data": {
      "text/plain": "       SCHOOL NAME       Collaborative_Name\n0  FPT POLYTECHNIC  WEST SIDE COLLABORATIVE",
      "text/html": "<div>\n<style scoped>\n    .dataframe tbody tr th:only-of-type {\n        vertical-align: middle;\n    }\n\n    .dataframe tbody tr th {\n        vertical-align: top;\n    }\n\n    .dataframe thead th {\n        text-align: right;\n    }\n</style>\n<table border=\"1\" class=\"dataframe\">\n  <thead>\n    <tr style=\"text-align: right;\">\n      <th></th>\n      <th>SCHOOL NAME</th>\n      <th>Collaborative_Name</th>\n    </tr>\n  </thead>\n  <tbody>\n    <tr>\n      <th>0</th>\n      <td>FPT POLYTECHNIC</td>\n      <td>WEST SIDE COLLABORATIVE</td>\n    </tr>\n  </tbody>\n</table>\n</div>"
     },
     "execution_count": 30,
     "metadata": {},
     "output_type": "execute_result"
    }
   ],
   "source": [
    "result = execute(\"\"\"\n",
    "SELECT \n",
    "\tName_of_School,\n",
    "\tCollaborative_Name\n",
    "FROM SCHOOL\n",
    "WHERE School_ID = 7276942\n",
    "\"\"\",[\n",
    "    'SCHOOL NAME',\n",
    "    'Collaborative_Name'] )\n",
    "result"
   ],
   "metadata": {
    "collapsed": false,
    "ExecuteTime": {
     "end_time": "2023-09-25T14:26:56.806935Z",
     "start_time": "2023-09-25T14:26:56.800822800Z"
    }
   },
   "id": "28cec2b9caa97c91"
  },
  {
   "cell_type": "code",
   "execution_count": null,
   "outputs": [],
   "source": [],
   "metadata": {
    "collapsed": false
   },
   "id": "eaabfa1b23168243"
  }
 ],
 "metadata": {
  "kernelspec": {
   "display_name": "Python 3",
   "language": "python",
   "name": "python3"
  },
  "language_info": {
   "codemirror_mode": {
    "name": "ipython",
    "version": 3
   },
   "file_extension": ".py",
   "mimetype": "text/x-python",
   "name": "python",
   "nbconvert_exporter": "python",
   "pygments_lexer": "ipython3",
   "version": "3.11.1"
  }
 },
 "nbformat": 4,
 "nbformat_minor": 5
}
