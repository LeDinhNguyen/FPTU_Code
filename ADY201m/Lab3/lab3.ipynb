{
 "cells": [
  {
   "cell_type": "code",
   "execution_count": null,
   "metadata": {
    "colab": {
     "base_uri": "https://localhost:8080/",
     "height": 314
    },
    "id": "ZYjYduL5eiUo",
    "outputId": "05a47576-5b96-4200-b548-7e561424cc57"
   },
   "outputs": [],
   "source": [
    "import pandas\n",
    "import ibm_db_dbi\n",
    "import ibm_db\n",
    "from sqlalchemy import create_engine"
   ]
  },
  {
   "cell_type": "code",
   "execution_count": null,
   "metadata": {
    "id": "fTS3NB-5e4ET"
   },
   "outputs": [],
   "source": [
    "dsn_hostname = \"1bbf73c5-d84a-4bb0-85b9-ab1a4348f4a4.c3n41cmd0nqnrk39u98g.databases.appdomain.cloud\"\n",
    "dsn_uid = \"xkk84284\"        # e.g. \"abc12345\"\n",
    "dsn_pwd = \"QdRxktEwkW0eOMFE\"      # e.g. \"7dBZ3wWt9XN6$o0J\"\n",
    "\n",
    "dsn_driver = \"{IBM DB2 ODBC DRIVER}\"\n",
    "dsn_database = \"bludb\"            # e.g. \"BLUDB\"\n",
    "dsn_port = \"32286\"                # e.g. \"32733\"\n",
    "dsn_protocol = \"TCPIP\"            # i.e. \"TCPIP\"\n",
    "dsn_security = \"SSL\"          #i.e. \"SSL\""
   ]
  },
  {
   "cell_type": "code",
   "execution_count": null,
   "metadata": {
    "colab": {
     "base_uri": "https://localhost:8080/"
    },
    "id": "5zp_OE2vfuL0",
    "outputId": "dd85b2ba-204c-4902-92cb-c68d4ded5dd4"
   },
   "outputs": [],
   "source": [
    "# Create database connection\n",
    "# DO NOT MODIFY THIS CELL. Just RUN it with Shift + Enter\n",
    "dsn = (\n",
    "    \"DRIVER={0};\"\n",
    "    \"DATABASE={1};\"\n",
    "    \"HOSTNAME={2};\"\n",
    "    \"PORT={3};\"\n",
    "    \"PROTOCOL={4};\"\n",
    "    \"UID={5};\"\n",
    "    \"PWD={6};\"\n",
    "    \"SECURITY={7};\").format(dsn_driver, dsn_database, dsn_hostname, dsn_port, dsn_protocol, dsn_uid, dsn_pwd,dsn_security)\n",
    "\n",
    "try:\n",
    "    conn = ibm_db.connect(dsn, \"\", \"\")\n",
    "    print (\"Connected to database: \", dsn_database, \"as user: \", dsn_uid, \"on host: \", dsn_hostname)\n",
    "\n",
    "except:\n",
    "    print (\"Unable to connect: \", ibm_db.conn_errormsg() )\n"
   ]
  },
  {
   "cell_type": "code",
   "execution_count": null,
   "metadata": {},
   "outputs": [],
   "source": [
    "dsn = (\n",
    "    \"DRIVER={0};\"\n",
    "    \"DATABASE={1};\"\n",
    "    \"HOSTNAME={2};\"\n",
    "    \"PORT={3};\"\n",
    "    \"PROTOCOL={4};\"\n",
    "    \"UID={5};\"\n",
    "    \"PWD={6};\"\n",
    "    \"SECURITY={7};\").format(dsn_driver, dsn_database, dsn_hostname, dsn_port, dsn_protocol, dsn_uid, dsn_pwd,dsn_security)\n",
    "conn = ibm_db.connect(dsn, \"\", \"\")"
   ]
  },
  {
   "cell_type": "code",
   "execution_count": null,
   "metadata": {
    "id": "-pP7SVv7pVuB"
   },
   "outputs": [],
   "source": [
    "pconn = ibm_db_dbi.Connection(conn)"
   ]
  },
  {
   "cell_type": "code",
   "execution_count": null,
   "metadata": {
    "colab": {
     "base_uri": "https://localhost:8080/"
    },
    "id": "6P4mvqJXpe_w",
    "outputId": "3a6f97f7-a482-4f77-8d0c-b9adb031078c"
   },
   "outputs": [],
   "source": [
    "df = pandas.read_sql('select ELEMENTARY__MIDDLE__OR_HIGH_SCHOOL from CHICAGO',pconn)\n",
    "df"
   ]
  },
  {
   "cell_type": "code",
   "execution_count": null,
   "metadata": {
    "colab": {
     "base_uri": "https://localhost:8080/"
    },
    "id": "i2lhmubDpzi9",
    "outputId": "d9852fd1-f4f3-4043-b243-d846f0752225"
   },
   "outputs": [],
   "source": [
    "df = pandas.read_sql('select * from CHICAGO',pconn)\n",
    "df"
   ]
  },
  {
   "cell_type": "code",
   "execution_count": null,
   "metadata": {
    "colab": {
     "base_uri": "https://localhost:8080/",
     "height": 478
    },
    "id": "V1_8ITLup555",
    "outputId": "a2692bfe-e2eb-4b97-ae50-bc042b508b89"
   },
   "outputs": [],
   "source": [
    "df.describe(include='all')"
   ]
  },
  {
   "cell_type": "markdown",
   "metadata": {
    "id": "3C6Vs_yluod1"
   },
   "source": [
    "# Question 1. Calculate the total number of students in each grade level."
   ]
  },
  {
   "cell_type": "code",
   "execution_count": null,
   "metadata": {
    "colab": {
     "base_uri": "https://localhost:8080/"
    },
    "id": "zHTDSVEgqFyA",
    "outputId": "588b8d62-d512-4ab4-c720-0aae77f56272"
   },
   "outputs": [],
   "source": [
    "q1 = pandas.read_sql(\n",
    "  \"\"\"\n",
    "  SELECT\n",
    "      `Elementary, Middle, or High School`,\n",
    "      COUNT(*) as total_number_of_students\n",
    "  FROM chicago\n",
    "  GROUP BY `Elementary, Middle, or High School`;\n",
    "  \"\"\",\n",
    "pconn)\n",
    "q1"
   ]
  },
  {
   "cell_type": "markdown",
   "metadata": {},
   "source": [
    "# QUESTION 2.Find the top 5 student groups with the largest number and highest safety"
   ]
  },
  {
   "cell_type": "code",
   "execution_count": null,
   "metadata": {},
   "outputs": [],
   "source": [
    "q2 = pandas.read_sql(\n",
    "  \"\"\"\n",
    "  SELECT\n",
    "    NAME_OF_SCHOOL,SAFETY_SCORE,\n",
    "    SAFETY_ICON\n",
    "  FROM chicago\n",
    "  WHERE SAFETY_SCORE not like \\'%NONE%\\'\n",
    "  ORDER BY SAFETY_SCORE DESC LIMIT 5\n",
    "  \"\"\"\n",
    "  ,pconn)\n",
    "q2"
   ]
  },
  {
   "cell_type": "markdown",
   "metadata": {
    "id": "qrf8upc80zz0"
   },
   "source": [
    "# Question 3. Calculate average of AVERAGE_STUDENT_ATTENDANCE of 10 schools with least SAFETY_SCORE"
   ]
  },
  {
   "cell_type": "code",
   "execution_count": null,
   "metadata": {
    "colab": {
     "base_uri": "https://localhost:8080/"
    },
    "id": "syC9hp5K07xX",
    "outputId": "365592fd-6313-4006-c7c7-4aef18cc5a2b"
   },
   "outputs": [],
   "source": [
    "q3 = pandas.read_sql(\n",
    "    \"\"\"\n",
    "    SELECT ROUND(AVG(CAST(REPLACE(AVERAGE_STUDENT_ATTENDANCE, '%', '') AS DECIMAL(5, 2))),2) AS average_attendance\n",
    "    FROM (\n",
    "        SELECT \n",
    "            Name_OF_SCHOOL,\n",
    "            AVERAGE_STUDENT_ATTENDANCE,\n",
    "            SAFETY_SCORE\n",
    "        FROM chicago\n",
    "        ORDER BY SAFETY_SCORE\n",
    "        LIMIT 10\n",
    "    ) AS subquery;\n",
    "    \"\"\", \n",
    "pconn\n",
    ")\n",
    "q3"
   ]
  },
  {
   "cell_type": "markdown",
   "metadata": {
    "id": "MV3tDqOou-YT"
   },
   "source": [
    "# Question 4. Find 10 High school with highest College_Eligibility__ score."
   ]
  },
  {
   "cell_type": "code",
   "execution_count": null,
   "metadata": {
    "colab": {
     "base_uri": "https://localhost:8080/"
    },
    "id": "XTSjjbZmzCX2",
    "outputId": "268e8a4f-19bd-44f6-cad4-6509fa451933"
   },
   "outputs": [],
   "source": [
    "import pandas as pd\n",
    "\n",
    "# SQL query to select the top 10 schools with the highest College_Eligibility_Score\n",
    "q4 = pd.read_sql(\n",
    "    \"\"\"\n",
    "    SELECT Name_OF_SCHOOL, CAST(College_Eligibility__ AS FLOAT) AS College_Eligibility_Score\n",
    "    FROM chicago\n",
    "    WHERE COLLEGE_ELIGIBILITY__ NOT LIKE '%NDA%'\n",
    "    ORDER BY College_Eligibility_Score DESC\n",
    "    LIMIT 10;\n",
    "    \"\"\",\n",
    "    pconn\n",
    ")\n",
    "q4"
   ]
  },
  {
   "cell_type": "code",
   "execution_count": null,
   "metadata": {
    "colab": {
     "base_uri": "https://localhost:8080/"
    },
    "id": "JKojqxbUKfhA",
    "outputId": "895bc2e1-20be-4aff-c530-2a3fa26d0af8"
   },
   "outputs": [],
   "source": [
    "! pip install openpyxl"
   ]
  },
  {
   "cell_type": "code",
   "execution_count": null,
   "metadata": {
    "colab": {
     "base_uri": "https://localhost:8080/"
    },
    "id": "LvV57BArLBPz",
    "outputId": "896cd80c-7fbc-498c-f5dc-297ce02d27a2"
   },
   "outputs": [],
   "source": [
    "! mamba install openpyxl==3.0.9 -y"
   ]
  },
  {
   "cell_type": "code",
   "execution_count": null,
   "metadata": {
    "id": "SdjnsiC4LGEt"
   },
   "outputs": [],
   "source": [
    "import numpy as np  # useful for many scientific computing in Python\n",
    "import pandas as pd # primary data structure library"
   ]
  },
  {
   "cell_type": "code",
   "execution_count": null,
   "metadata": {
    "colab": {
     "base_uri": "https://localhost:8080/",
     "height": 599
    },
    "id": "ZOPVsDbTLG_z",
    "outputId": "223e8a16-84da-4308-9fb1-6924017ebc68"
   },
   "outputs": [],
   "source": [
    "! pip3 install folium==0.5.0\n",
    "import folium\n",
    "\n",
    "print('Folium installed and imported!')"
   ]
  },
  {
   "cell_type": "code",
   "execution_count": null,
   "metadata": {
    "colab": {
     "base_uri": "https://localhost:8080/",
     "height": 656
    },
    "id": "1XuZqLoALSSD",
    "outputId": "7ac387e2-8d6f-4b59-9eee-3d2f6bc5a149"
   },
   "outputs": [],
   "source": [
    "# define the world map\n",
    "world_map = folium.Map()\n",
    "\n",
    "# display world map\n",
    "world_map"
   ]
  },
  {
   "cell_type": "markdown",
   "metadata": {
    "id": "iyWXTDIIZiS7"
   },
   "source": [
    "# CHICAGO MAP"
   ]
  },
  {
   "cell_type": "code",
   "execution_count": null,
   "metadata": {
    "id": "u2tVX6BxQ4b_"
   },
   "outputs": [],
   "source": [
    "# define the Chicago map with a higher zoom level\n",
    "chicago_map = folium.Map(location=[41.84969736, -87.6252787], zoom_start=12)\n",
    "\n",
    "# display Chicago map\n",
    "chicago_map\n",
    "\n",
    "#save Chicago map into .html\n",
    "chicago_map.save('chicago.html')"
   ]
  },
  {
   "cell_type": "code",
   "execution_count": null,
   "metadata": {
    "colab": {
     "base_uri": "https://localhost:8080/"
    },
    "id": "Gx8JA8dtXBly",
    "outputId": "686085e3-07c3-4026-adb4-1b7ac88b0532"
   },
   "outputs": [],
   "source": [
    "folium.Marker([42.01017628, -87.68446868])"
   ]
  },
  {
   "cell_type": "markdown",
   "metadata": {
    "id": "PFOENozSYA_-"
   },
   "source": [
    "#### Figure out all school destination"
   ]
  },
  {
   "cell_type": "code",
   "execution_count": null,
   "metadata": {},
   "outputs": [],
   "source": [
    "import folium\n",
    "\n",
    "print('Folium installed and imported!')"
   ]
  },
  {
   "cell_type": "code",
   "execution_count": null,
   "metadata": {},
   "outputs": [],
   "source": [
    "# define the world map\n",
    "world_map = folium.Map()\n",
    "\n",
    "# display world map\n",
    "world_map"
   ]
  },
  {
   "cell_type": "code",
   "execution_count": null,
   "metadata": {
    "colab": {
     "base_uri": "https://localhost:8080/",
     "height": 175
    },
    "id": "uOzqvj64YI7w",
    "outputId": "fb1bd118-87c3-41f7-a0a4-e16e3904de21"
   },
   "outputs": [],
   "source": [
    "loc = pd.read_sql('SELECT REPLACE(REPLACE(Location, \\'(\\', \\'\\'), \\')\\', \\'\\') as des FROM CHICAGO', pconn)\n",
    "loc"
   ]
  },
  {
   "cell_type": "code",
   "execution_count": null,
   "metadata": {},
   "outputs": [],
   "source": [
    "kd = pd.read_sql('SELECT Latitude FROM Chicago',pconn)\n",
    "vd = pd.read_sql('SELECT Longitude FROM Chicago',pconn)"
   ]
  },
  {
   "cell_type": "code",
   "execution_count": null,
   "metadata": {},
   "outputs": [],
   "source": [
    "sl = \"\"\"SELECT * FROM CHICAGO\"\"\"\n",
    "df = pd.read_sql(sl,pconn)\n",
    "from folium.plugins import MarkerCluster\n",
    "chicago_map = folium.Map(location=[41.84969736, -87.6252787], zoom_start=12)\n",
    "\n",
    "\n",
    "tooltip = 'Click me!'\n",
    "\n",
    "\n",
    "df1 = df[['LATITUDE','LONGITUDE','NAME_OF_SCHOOL']]\n",
    "# df2 = df[['LATITUDE','LONGITUDE']]\n",
    "marker_cluster = MarkerCluster().add_to(chicago_map)\n",
    "for index, row in df1.iterrows():\n",
    "    latitude = row['LATITUDE']\n",
    "    longitude = row['LONGITUDE']\n",
    "    label = row['NAME_OF_SCHOOL']\n",
    "    folium.Marker([latitude, longitude],\n",
    "                popup=folium.Popup(label,parse_html=True,max_width='1000000%'),\n",
    "                icon=folium.Icon(icon='glyphicon glyphicon-headphones',)).add_to(marker_cluster)\n",
    "\n",
    "chicago_map.save('chicathanh.html')\n",
    "chicago_map"
   ]
  },
  {
   "cell_type": "code",
   "execution_count": null,
   "metadata": {},
   "outputs": [],
   "source": [
    "import folium\n",
    "import pandas as pd\n",
    "\n",
    "# Define the Chicago map with a higher zoom level\n",
    "chicago_map = folium.Map(location=[41.84969736, -87.6252787], zoom_start=12)\n",
    "\n",
    "# Assuming you have DataFrames 'kd' and 'vd' with latitude and longitude data\n",
    "# Replace 'LATITUDE' and 'LONGITUDE' with your actual column names\n",
    "url = \"https://leafletjs.com/examples/custom-icons/{}\".format\n",
    "icon_image = url(\"leaf-red.png\")\n",
    "shadow_image = url(\"leaf-shadow.png\")\n",
    "\n",
    "icon = folium.CustomIcon(\n",
    "    icon_image,\n",
    "    icon_size=(38, 95),\n",
    "    icon_anchor=(22, 94),\n",
    "    shadow_image=shadow_image,\n",
    "    shadow_size=(50, 64),\n",
    "    shadow_anchor=(4, 62),\n",
    "    popup_anchor=(-3, -76),\n",
    ")\n",
    "# Iterate through rows in 'kd' and 'vd' DataFrames and add markers\n",
    "for index, row in kd.iterrows():\n",
    "    latitude = row['LATITUDE']  # Replace 'LATITUDE' with your actual column name\n",
    "    longitude = vd.iloc[index]['LONGITUDE']  # Replace 'LONGITUDE' with your actual column name\n",
    "\n",
    "    # Create markers with latitude and longitude\n",
    "    folium.Marker(location=[latitude, longitude]).add_to(chicago_map)\n",
    "\n",
    "# Save the Chicago map to an HTML file\n",
    "chicago_map.save('chicago.html')\n",
    "\n",
    "# Display the Chicago map (if running in a Jupyter Notebook or interactive environment)\n",
    "chicago_map\n"
   ]
  },
  {
   "cell_type": "code",
   "execution_count": null,
   "metadata": {
    "colab": {
     "base_uri": "https://localhost:8080/",
     "height": 175
    },
    "id": "l5ZYkpTR8tLR",
    "outputId": "51e19cee-e703-4e5a-f9ad-237fd787276a"
   },
   "outputs": [],
   "source": [
    "ibm_db.close()"
   ]
  }
 ],
 "metadata": {
  "colab": {
   "provenance": []
  },
  "kernelspec": {
   "display_name": "Python 3 (ipykernel)",
   "language": "python",
   "name": "python3"
  },
  "language_info": {
   "codemirror_mode": {
    "name": "ipython",
    "version": 3
   },
   "file_extension": ".py",
   "mimetype": "text/x-python",
   "name": "python",
   "nbconvert_exporter": "python",
   "pygments_lexer": "ipython3",
   "version": "3.11.3"
  }
 },
 "nbformat": 4,
 "nbformat_minor": 1
}
